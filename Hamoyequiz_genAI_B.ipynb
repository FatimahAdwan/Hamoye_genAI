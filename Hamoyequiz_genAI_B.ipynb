{
  "nbformat": 4,
  "nbformat_minor": 0,
  "metadata": {
    "colab": {
      "provenance": []
    },
    "kernelspec": {
      "name": "python3",
      "display_name": "Python 3"
    },
    "language_info": {
      "name": "python"
    }
  },
  "cells": [
    {
      "cell_type": "markdown",
      "source": [
        "**Question 1**"
      ],
      "metadata": {
        "id": "T8nlJCrIK8p_"
      }
    },
    {
      "cell_type": "code",
      "source": [
        "!pip install openai==0.28"
      ],
      "metadata": {
        "colab": {
          "base_uri": "https://localhost:8080/"
        },
        "id": "StPdnd6gLNS6",
        "outputId": "2c9d01ae-cab3-497f-ba47-758819195577"
      },
      "execution_count": 1,
      "outputs": [
        {
          "output_type": "stream",
          "name": "stdout",
          "text": [
            "Collecting openai==0.28\n",
            "  Downloading openai-0.28.0-py3-none-any.whl (76 kB)\n",
            "\u001b[?25l     \u001b[90m━━━━━━━━━━━━━━━━━━━━━━━━━━━━━━━━━━━━━━━━\u001b[0m \u001b[32m0.0/76.5 kB\u001b[0m \u001b[31m?\u001b[0m eta \u001b[36m-:--:--\u001b[0m\r\u001b[2K     \u001b[91m━━━━━━━━━━━━━━━━━━━━━\u001b[0m\u001b[90m╺\u001b[0m\u001b[90m━━━━━━━━━━━━━━━━━━\u001b[0m \u001b[32m41.0/76.5 kB\u001b[0m \u001b[31m1.1 MB/s\u001b[0m eta \u001b[36m0:00:01\u001b[0m\r\u001b[2K     \u001b[90m━━━━━━━━━━━━━━━━━━━━━━━━━━━━━━━━━━━━━━━━\u001b[0m \u001b[32m76.5/76.5 kB\u001b[0m \u001b[31m1.5 MB/s\u001b[0m eta \u001b[36m0:00:00\u001b[0m\n",
            "\u001b[?25hRequirement already satisfied: requests>=2.20 in /usr/local/lib/python3.10/dist-packages (from openai==0.28) (2.31.0)\n",
            "Requirement already satisfied: tqdm in /usr/local/lib/python3.10/dist-packages (from openai==0.28) (4.66.2)\n",
            "Requirement already satisfied: aiohttp in /usr/local/lib/python3.10/dist-packages (from openai==0.28) (3.9.5)\n",
            "Requirement already satisfied: charset-normalizer<4,>=2 in /usr/local/lib/python3.10/dist-packages (from requests>=2.20->openai==0.28) (3.3.2)\n",
            "Requirement already satisfied: idna<4,>=2.5 in /usr/local/lib/python3.10/dist-packages (from requests>=2.20->openai==0.28) (3.7)\n",
            "Requirement already satisfied: urllib3<3,>=1.21.1 in /usr/local/lib/python3.10/dist-packages (from requests>=2.20->openai==0.28) (2.0.7)\n",
            "Requirement already satisfied: certifi>=2017.4.17 in /usr/local/lib/python3.10/dist-packages (from requests>=2.20->openai==0.28) (2024.2.2)\n",
            "Requirement already satisfied: aiosignal>=1.1.2 in /usr/local/lib/python3.10/dist-packages (from aiohttp->openai==0.28) (1.3.1)\n",
            "Requirement already satisfied: attrs>=17.3.0 in /usr/local/lib/python3.10/dist-packages (from aiohttp->openai==0.28) (23.2.0)\n",
            "Requirement already satisfied: frozenlist>=1.1.1 in /usr/local/lib/python3.10/dist-packages (from aiohttp->openai==0.28) (1.4.1)\n",
            "Requirement already satisfied: multidict<7.0,>=4.5 in /usr/local/lib/python3.10/dist-packages (from aiohttp->openai==0.28) (6.0.5)\n",
            "Requirement already satisfied: yarl<2.0,>=1.0 in /usr/local/lib/python3.10/dist-packages (from aiohttp->openai==0.28) (1.9.4)\n",
            "Requirement already satisfied: async-timeout<5.0,>=4.0 in /usr/local/lib/python3.10/dist-packages (from aiohttp->openai==0.28) (4.0.3)\n",
            "Installing collected packages: openai\n",
            "Successfully installed openai-0.28.0\n"
          ]
        }
      ]
    },
    {
      "cell_type": "code",
      "source": [
        "import openai\n",
        "openai.api_key = \"added the key and later removed it because of the API Expore\""
      ],
      "metadata": {
        "id": "MAoTFOMbMEoD"
      },
      "execution_count": 2,
      "outputs": []
    },
    {
      "cell_type": "markdown",
      "source": [
        "**Question 1**"
      ],
      "metadata": {
        "id": "81n-aE6MB3K5"
      }
    },
    {
      "cell_type": "code",
      "source": [
        "response = openai.ChatCompletion.create(\n",
        "    model=\"gpt-3.5-turbo\",\n",
        "    messages=[\n",
        "        {\"role\": \"user\", \"content\": \"who is known as the father of computer science?\"},\n",
        "        {\"role\": \"system\", \"content\": \"provide a brief accurate answer to the question that can be used as an MCQ\"}\n",
        "    ],\n",
        "    temperature=0,\n",
        "    max_tokens=30,\n",
        "    top_p = 1\n",
        ")\n",
        "\n",
        "print(response['choices'][0]['message']['content'])\n",
        "\n"
      ],
      "metadata": {
        "id": "4_QyrN2ixvUR"
      },
      "execution_count": 4,
      "outputs": []
    },
    {
      "cell_type": "code",
      "source": [],
      "metadata": {
        "id": "cozntthMeYkW"
      },
      "execution_count": null,
      "outputs": []
    },
    {
      "cell_type": "markdown",
      "source": [
        "**Question 2**"
      ],
      "metadata": {
        "id": "t3hA0YETYgAr"
      }
    },
    {
      "cell_type": "code",
      "source": [
        "response = openai.ChatCompletion.create(\n",
        "    model=\"gpt-3.5-turbo\",\n",
        "    messages=[{\"role\": \"system\", \"content\": \"explain the technical concept briefly enough to fit as MCQ option.\"},\n",
        "        {\"role\": \"user\", \"content\": \" What is cloud computing?\"}\n",
        "    ],\n",
        "    temperature=0,\n",
        "    max_tokens = 30,\n",
        "    top_p=1)\n",
        "\n",
        "\n",
        "print(response.choices[0].message['content'])\n"
      ],
      "metadata": {
        "id": "mPZL8M9uvRaJ"
      },
      "execution_count": null,
      "outputs": []
    },
    {
      "cell_type": "markdown",
      "source": [
        "**Question 4**"
      ],
      "metadata": {
        "id": "LZZso1tyY3tT"
      }
    },
    {
      "cell_type": "code",
      "source": [
        "response = openai.ChatCompletion.create(\n",
        "    model=\"gpt-3.5-turbo\",\n",
        "   messages = [\n",
        "    {\"role\": \"system\", \"content\": \"You are to summarise the privided text into concise form maintaing the key points and context briefly enough to fit as an MCQ option.\"},\n",
        "    {\"role\": \"user\", \"content\": \"the economy has been growing steadily over the past few quarters , driven by increase in consumer spending and substantial investment in renewable energy infrastructure. unemployemnt rate has also fallen to record lows as new industries are creating more jobs\"}\n",
        "],\n",
        "    temperature=0,\n",
        "    max_tokens=100,\n",
        "    top_p=1\n",
        ")\n",
        "print(response.choices[0].message[\"content\"])"
      ],
      "metadata": {
        "id": "3s1AMRpx1O08"
      },
      "execution_count": null,
      "outputs": []
    },
    {
      "cell_type": "markdown",
      "source": [
        "**Question 10**"
      ],
      "metadata": {
        "id": "JYFP778gZauy"
      }
    },
    {
      "cell_type": "code",
      "source": [
        "response = openai.ChatCompletion.create(\n",
        "    model=\"gpt-3.5-turbo\",\n",
        "    messages=[{\"role\": \"system\", \"content\": \"You will be provided with a sentence in English, and task is to translate into German\"},\n",
        "        {\"role\": \"user\", \"content\": \" How do you say ' I love to travel' in German?\"}\n",
        "    ],\n",
        "    temperature=0,\n",
        "    max_tokens = 54,\n",
        "    top_p=1)\n",
        "\n",
        "\n",
        "print(response.choices[0].message['content'])\n",
        "\n"
      ],
      "metadata": {
        "id": "m5vlXbWE9BeT"
      },
      "execution_count": null,
      "outputs": []
    },
    {
      "cell_type": "markdown",
      "source": [
        "**Question 11**"
      ],
      "metadata": {
        "id": "_UKJeuSMZwgP"
      }
    },
    {
      "cell_type": "code",
      "source": [
        "response = openai.ChatCompletion.create(\n",
        "    model=\"gpt-3.5-turbo\",\n",
        "    messages=[{\"role\": \"system\", \"content\": \"Classify the sentiment of the provided text as positive, negative or neutral.\"},\n",
        "        {\"role\": \"user\", \"content\": \" I had an awful experience at the restaurant, the food was blant and the services was slow.\"}\n",
        "    ],\n",
        "    temperature=0,\n",
        "    max_tokens = 16,\n",
        "    top_p=1)\n",
        "\n",
        "\n",
        "print(response.choices[0].message['content'])\n"
      ],
      "metadata": {
        "id": "XPCfBx9kKz8L"
      },
      "execution_count": null,
      "outputs": []
    },
    {
      "cell_type": "markdown",
      "source": [
        "**Question 13**"
      ],
      "metadata": {
        "id": "B3sILh0ZbmmG"
      }
    },
    {
      "cell_type": "code",
      "source": [
        "response = openai.ChatCompletion.create(\n",
        "    model=\"gpt-3.5-turbo\",\n",
        "    messages=[{\"role\": \"system\", \"content\": \"you are  a knowledgeable assistant, a user will ask a question and you should provide a clear and concise answer briefly enough to fit as an MCQ.\"},\n",
        "        {\"role\": \"user\", \"content\": \" what causes the northern lights?\"}\n",
        "    ],\n",
        "    temperature=0,\n",
        "    max_tokens = 150,\n",
        "    top_p=1)\n",
        "\n",
        "\n",
        "print(response.choices[0].message['content'])\n"
      ],
      "metadata": {
        "id": "J9tAoxSvA3hW"
      },
      "execution_count": null,
      "outputs": []
    },
    {
      "cell_type": "markdown",
      "source": [
        "**Question 14**"
      ],
      "metadata": {
        "id": "XZshb_DUaqr6"
      }
    },
    {
      "cell_type": "code",
      "source": [
        "response = openai.ChatCompletion.create(\n",
        "    model=\"gpt-3.5-turbo\",\n",
        "   messages = [\n",
        "    {\"role\": \"system\", \"content\": \"Summarize the following text into a concise phrase suitable for an MCQ answer option\"},\n",
        "    {\"role\": \"user\", \"content\": \"The internet was developed to help researchers communicate and share computing resources. Today, it connects millions of people and devices across the globe\"}\n",
        "],\n",
        "    temperature=0,\n",
        "    max_tokens=30,\n",
        "    top_p=1\n",
        ")\n",
        "print(response.choices[0].message[\"content\"])\n"
      ],
      "metadata": {
        "id": "60S0IXlORjCx"
      },
      "execution_count": null,
      "outputs": []
    },
    {
      "cell_type": "markdown",
      "source": [
        "**Question 15**"
      ],
      "metadata": {
        "id": "xKFKVw36b9P9"
      }
    },
    {
      "cell_type": "code",
      "source": [
        "response = openai.ChatCompletion.create(\n",
        "    model=\"gpt-3.5-turbo\",\n",
        "    messages=[{\"role\": \"system\", \"content\": \"translate the following sentences into spanish concisely to fit as MCQ.\"},\n",
        "        {\"role\": \"user\", \"content\": \" What time is the meeting\"}\n",
        "    ],\n",
        "    temperature=0,\n",
        "    max_tokens = 30,\n",
        "    top_p=1)\n",
        "\n",
        "\n",
        "print(response.choices[0].message['content'])\n"
      ],
      "metadata": {
        "id": "lW6jDh12MCNY"
      },
      "execution_count": null,
      "outputs": []
    },
    {
      "cell_type": "markdown",
      "source": [
        "**question 17**"
      ],
      "metadata": {
        "id": "eJWm57_ZcS30"
      }
    },
    {
      "cell_type": "code",
      "source": [
        "response = openai.ChatCompletion.create(\n",
        "    model=\"gpt-3.5-turbo\",\n",
        "    messages=[{\"role\": \"system\", \"content\": \"provide a concise fact about the event in the history mentioned by the user brief enough to fits as MCQ option\"},\n",
        "        {\"role\": \"user\", \"content\": \"what was the main cause of the American civil war\"}\n",
        "    ],\n",
        "    temperature=0,\n",
        "    max_tokens = 40,\n",
        "    top_p=1)\n",
        "\n",
        "\n",
        "print(response.choices[0].message['content'])\n",
        "\n"
      ],
      "metadata": {
        "id": "dijVrAW45Xgi"
      },
      "execution_count": null,
      "outputs": []
    },
    {
      "cell_type": "markdown",
      "source": [
        "**question 20**"
      ],
      "metadata": {
        "id": "fseFyWqFcjjI"
      }
    },
    {
      "cell_type": "code",
      "source": [
        "response = openai.ChatCompletion.create(\n",
        "    model=\"gpt-3.5-turbo\",\n",
        "    messages=[\n",
        "        {\"role\": \"system\", \"content\": \"classify the follwing text's tone in a brief form that could fit as an MCQ\"},\n",
        "        {\"role\": \"user\", \"content\": \"the meeting was cancelled due to unforseen circumstances\"}\n",
        "    ],\n",
        "    temperature=0,\n",
        "    max_tokens = 30,\n",
        "    top_p=1)\n",
        "\n",
        "\n",
        "print(response['choices'][0]['message']['content'])\n",
        "\n"
      ],
      "metadata": {
        "id": "VsuMxhTYz81E"
      },
      "execution_count": null,
      "outputs": []
    },
    {
      "cell_type": "markdown",
      "source": [
        "**Question 15**"
      ],
      "metadata": {
        "id": "N6-B8pdb9DO1"
      }
    }
  ]
}